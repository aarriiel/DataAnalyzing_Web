{
 "cells": [
  {
   "cell_type": "markdown",
   "metadata": {},
   "source": [
    "# Job Descriptions Processor (ﾉ>ω<)ﾉ"
   ]
  },
  {
   "cell_type": "code",
   "execution_count": 1,
   "metadata": {},
   "outputs": [],
   "source": [
    "# Make your plot output stored in the notebook.\n",
    "%matplotlib inline\n",
    "\n",
    "import sys\n",
    "sys.path.insert(0, 'modules/')\n",
    "from fintextmin import *\n",
    "\n",
    "import nltk\n",
    "import pandas\n",
    "import matplotlib\n",
    "import numpy as np\n",
    "from collections import OrderedDict\n",
    "from matplotlib import pyplot as plt\n",
    "matplotlib.style.use('ggplot')"
   ]
  },
  {
   "cell_type": "markdown",
   "metadata": {},
   "source": [
    "## Helper functions\n",
    "1. Min/Pref Degree requirements\n",
    "2. Min/Pref Work exp requirements\n",
    "3. Min/Pref Programming langs requirements"
   ]
  },
  {
   "cell_type": "code",
   "execution_count": 2,
   "metadata": {},
   "outputs": [],
   "source": [
    "keywords = ['PhD', 'Master', 'MBA', 'BA', 'BS', 'Bachelor']\n",
    "\n",
    "def get_degree(s: str) -> str:\n",
    "    if type(s) is not str:\n",
    "        return 'None'\n",
    "    \n",
    "    # linear search qwq\n",
    "    for keyword in keywords:\n",
    "        if keyword in s:\n",
    "            return keyword\n",
    "    return 'None' # yes, return a string"
   ]
  },
  {
   "cell_type": "code",
   "execution_count": 3,
   "metadata": {},
   "outputs": [],
   "source": [
    "def atoi(s):\n",
    "    \"\"\"\n",
    "    :type str: str\n",
    "    :rtype: int\n",
    "    \"\"\"\n",
    "    if not s:\n",
    "        return 0\n",
    "    s = s.strip()\n",
    "    number, flag = 0, 1\n",
    "    if s[0] == '-':\n",
    "        s = s[1:]\n",
    "        flag = -1\n",
    "    elif s[0] == '+':\n",
    "        s = s[1:]\n",
    "    for c in s:\n",
    "        if c >= '0' and c <= '9':\n",
    "            number = 10 * number + ord(c) - ord('0')\n",
    "        else:\n",
    "            break\n",
    "    number = flag * number\n",
    "    number = number if number <= 2147483647 else 2147483647\n",
    "    number = number if number >= -2147483648 else -2147483648\n",
    "    return number\n",
    "\n",
    "def get_work_exp(s: str) -> int:\n",
    "    if type(s) is not str:\n",
    "        return 0\n",
    "    \n",
    "    import re\n",
    "    exp_required = re.findall('\\d+\\+? year', s)\n",
    "    year = 0 if not exp_required else int(atoi(exp_required[0]))\n",
    "    return year"
   ]
  },
  {
   "cell_type": "code",
   "execution_count": 4,
   "metadata": {},
   "outputs": [],
   "source": [
    "langs = [\n",
    "    'C++', 'Java', 'Python', 'Javascript', 'Go', 'PHP',\n",
    "    'SQL', 'Ruby', 'Swift', 'Kotlin', 'C#', 'Objective C'\n",
    "]\n",
    "\n",
    "def get_langs(s: str) -> str:\n",
    "    if type(s) is not str:\n",
    "        return 'None'\n",
    "    \n",
    "    result = []\n",
    "    # linear search again qwq\n",
    "    for lang in langs:\n",
    "        if lang in s:\n",
    "            result.append(lang)\n",
    "    return 'None' if len(result) == 0 else ','.join(result)"
   ]
  },
  {
   "cell_type": "markdown",
   "metadata": {},
   "source": [
    "## Append columns"
   ]
  },
  {
   "cell_type": "code",
   "execution_count": 7,
   "metadata": {},
   "outputs": [],
   "source": [
    "def process_dataframe_from_csv(filename: str):\n",
    "    df = pandas.read_csv(filename)\n",
    "    \n",
    "    # Prepare `min_degree_req` and `pref_degree_req` columns\n",
    "    if 'apple' in filename:\n",
    "        df['min_degree_req'] = list(get_degree(col) for col in df['education&experience'])\n",
    "        df['pref_degree_req'] = list(get_degree(col) for col in df['education&experience'])\n",
    "    else:      \n",
    "        df['min_degree_req'] = list(get_degree(col) for col in df['minimum_qual'])\n",
    "        df['pref_degree_req'] = list(get_degree(col) for col in df['preferred_qual'])\n",
    "\n",
    "    # Prepare `min_work_exp_req` and `min_work_exp_req` columns\n",
    "    df['min_work_exp_req'] = list(get_work_exp(col) for col in df['minimum_qual'])\n",
    "    df['pref_work_exp_req'] = list(get_work_exp(col) for col in df['preferred_qual'])\n",
    "\n",
    "    # Prepare `langs` columns\n",
    "    df['min_langs_req'] = list(get_langs(col) for col in df['minimum_qual'])\n",
    "    df['pref_langs_req'] = list(get_langs(col) for col in df['preferred_qual'])\n",
    "    \n",
    "    df.to_csv(filename + '_new.csv')"
   ]
  },
  {
   "cell_type": "code",
   "execution_count": 8,
   "metadata": {},
   "outputs": [],
   "source": [
    "for filename in ['google_jobs.csv', 'apple_jobs.csv', 'facebook_jobs.csv']:\n",
    "    process_dataframe_from_csv('csv/' + filename)"
   ]
  },
  {
   "cell_type": "code",
   "execution_count": null,
   "metadata": {},
   "outputs": [],
   "source": []
  }
 ],
 "metadata": {
  "kernelspec": {
   "display_name": "Python 3",
   "language": "python",
   "name": "python3"
  },
  "language_info": {
   "codemirror_mode": {
    "name": "ipython",
    "version": 3
   },
   "file_extension": ".py",
   "mimetype": "text/x-python",
   "name": "python",
   "nbconvert_exporter": "python",
   "pygments_lexer": "ipython3",
   "version": "3.7.4"
  }
 },
 "nbformat": 4,
 "nbformat_minor": 2
}
